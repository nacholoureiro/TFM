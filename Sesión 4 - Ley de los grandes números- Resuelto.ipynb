{
 "cells": [
  {
   "cell_type": "markdown",
   "id": "1bb9f1b7",
   "metadata": {},
   "source": [
    "## Sesión 4- Ley de los grandes números - Resuelto"
   ]
  },
  {
   "cell_type": "markdown",
   "id": "cba7f19b",
   "metadata": {},
   "source": [
    "En esta sesión, intentaremos demostrar que se cumple la *ley de los grandes números*. \n",
    "Para ello, simularemos el lanzamiento de un dado y de una moneda y comprobaremos que, efectivamente, la probabilidad experimental converge a la probabilidad teórica cuando el número de lanzamientos es lo suficientemente grande. "
   ]
  },
  {
   "cell_type": "markdown",
   "id": "a72bb4e1",
   "metadata": {},
   "source": [
    "### Lanzamiento de una Moneda"
   ]
  },
  {
   "attachments": {
    "cara_cruz.png": {
     "image/png": "[encoded data removed]"
    }
   },
   "cell_type": "markdown",
   "id": "222d6a02",
   "metadata": {},
   "source": [
    "Al lanzar una moneda, todos los resultados son igualmente probables, con P(cara) = P(cruz) = $\\frac{1}{2}=0.5$\n",
    "![cara_cruz.png](attachment:cara_cruz.png)\n"
   ]
  },
  {
   "cell_type": "markdown",
   "id": "7ffcca11",
   "metadata": {},
   "source": [
    "### Tiradas de un Dado"
   ]
  },
  {
   "attachments": {
    "dados.png": {
     "image/png": "[encoded data removed]"
    }
   },
   "cell_type": "markdown",
   "id": "335ac059",
   "metadata": {},
   "source": [
    "Al lanzar un dado, todos los resultados son igualmente probables, con P(1) = P(2) = P(3) = P(4) = P(5) = P(6) = $\\frac{1}{6}=0.1\\widehat{66}$\n",
    "![dados.png](attachment:dados.png)"
   ]
  },
  {
   "cell_type": "markdown",
   "id": "fc8d1c0d",
   "metadata": {},
   "source": [
    "## Solución (no es la única, ¡hay muchas formas de hacerlo!)"
   ]
  },
  {
   "cell_type": "code",
   "execution_count": 1,
   "id": "9e0effb7",
   "metadata": {},
   "outputs": [],
   "source": [
    "import random\n",
    "import numpy as np"
   ]
  },
  {
   "cell_type": "markdown",
   "id": "d4e649ee",
   "metadata": {},
   "source": [
    "## Lanzamiento de una Moneda"
   ]
  },
  {
   "cell_type": "code",
   "execution_count": 2,
   "id": "7ef5ff04",
   "metadata": {},
   "outputs": [],
   "source": [
    "def moneda(N):\n",
    "    num_cara = 0\n",
    "    num_cruz = 0\n",
    "    for flip in range(N):\n",
    "        a = random.randint(0,1)\n",
    "        if (a==1):\n",
    "            num_cara += 1 \n",
    "        else:\n",
    "            num_cruz += 1\n",
    "    print(\"Número de lanzamientos:\",N)\n",
    "    print(\"Ha salido cara\",num_cara, \"veces. Probabilidad experimental:\",num_cara/N,\".Probabilidad teórica:0.5\")\n",
    "    print(\"Ha salido cruz\",num_cruz, \"veces. Probabilidad experimental:\",num_cruz/N,\".Probabilidad teórica:0.5\")"
   ]
  },
  {
   "cell_type": "code",
   "execution_count": 3,
   "id": "985829f7",
   "metadata": {},
   "outputs": [
    {
     "name": "stdout",
     "output_type": "stream",
     "text": [
      "Número de lanzamientos: 10\n",
      "Ha salido cara 5 veces. Probabilidad experimental: 0.5 .Probabilidad teórica:0.5\n",
      "Ha salido cruz 5 veces. Probabilidad experimental: 0.5 .Probabilidad teórica:0.5\n"
     ]
    }
   ],
   "source": [
    "moneda(10)"
   ]
  },
  {
   "cell_type": "code",
   "execution_count": 4,
   "id": "3951de93",
   "metadata": {},
   "outputs": [
    {
     "name": "stdout",
     "output_type": "stream",
     "text": [
      "Número de lanzamientos: 50\n",
      "Ha salido cara 19 veces. Probabilidad experimental: 0.38 .Probabilidad teórica:0.5\n",
      "Ha salido cruz 31 veces. Probabilidad experimental: 0.62 .Probabilidad teórica:0.5\n"
     ]
    }
   ],
   "source": [
    "moneda(50)"
   ]
  },
  {
   "cell_type": "code",
   "execution_count": 5,
   "id": "e0ee2b91",
   "metadata": {},
   "outputs": [
    {
     "name": "stdout",
     "output_type": "stream",
     "text": [
      "Número de lanzamientos: 100\n",
      "Ha salido cara 52 veces. Probabilidad experimental: 0.52 .Probabilidad teórica:0.5\n",
      "Ha salido cruz 48 veces. Probabilidad experimental: 0.48 .Probabilidad teórica:0.5\n"
     ]
    }
   ],
   "source": [
    "moneda(100)"
   ]
  },
  {
   "cell_type": "code",
   "execution_count": 6,
   "id": "023d4dc3",
   "metadata": {},
   "outputs": [
    {
     "name": "stdout",
     "output_type": "stream",
     "text": [
      "Número de lanzamientos: 500\n",
      "Ha salido cara 248 veces. Probabilidad experimental: 0.496 .Probabilidad teórica:0.5\n",
      "Ha salido cruz 252 veces. Probabilidad experimental: 0.504 .Probabilidad teórica:0.5\n"
     ]
    }
   ],
   "source": [
    "moneda(500)"
   ]
  },
  {
   "cell_type": "markdown",
   "id": "7baef80a",
   "metadata": {},
   "source": [
    "## Tiradas de un Dado"
   ]
  },
  {
   "cell_type": "code",
   "execution_count": 7,
   "id": "abce0e68",
   "metadata": {},
   "outputs": [],
   "source": [
    "def dado(N):\n",
    "    num_1 = 0\n",
    "    num_2 = 0\n",
    "    num_3 = 0\n",
    "    num_4 = 0\n",
    "    num_5 = 0\n",
    "    num_6 = 0 \n",
    "    for flip in range(N):\n",
    "        a = random.randint(1,6)\n",
    "        if (a==1):\n",
    "            num_1 += 1 \n",
    "        elif (a==2):\n",
    "            num_2 += 1\n",
    "        elif (a==3):\n",
    "            num_3 += 1\n",
    "        elif (a==4):\n",
    "            num_4 += 1\n",
    "        elif (a==5):\n",
    "            num_5 += 1\n",
    "        else:\n",
    "            num_6 += 1\n",
    "    print(\"Número de lanzamientos:\",N)\n",
    "    print(\"Ha salido 1\",num_1, \"veces. Probabilidad experimental:\",num_1/N,\".Probabilidad teórica:0.1666\")\n",
    "    print(\"Ha salido 2\",num_2, \"veces. Probabilidad experimental:\",num_2/N,\".Probabilidad teórica:0.1666\")\n",
    "    print(\"Ha salido 3\",num_3, \"veces. Probabilidad experimental:\",num_3/N,\".Probabilidad teórica:0.1666\")\n",
    "    print(\"Ha salido 4\",num_4, \"veces. Probabilidad experimental:\",num_4/N,\".Probabilidad teórica:0.1666\")\n",
    "    print(\"Ha salido 5\",num_5, \"veces. Probabilidad experimental:\",num_5/N,\".Probabilidad teórica:0.1666\")\n",
    "    print(\"Ha salido 6\",num_6, \"veces. Probabilidad experimental:\",num_6/N,\".Probabilidad teórica:0.1666\")"
   ]
  },
  {
   "cell_type": "code",
   "execution_count": 8,
   "id": "4bd13037",
   "metadata": {},
   "outputs": [
    {
     "name": "stdout",
     "output_type": "stream",
     "text": [
      "Número de lanzamientos: 10\n",
      "Ha salido 1 4 veces. Probabilidad experimental: 0.4 .Probabilidad teórica:0.1666\n",
      "Ha salido 2 3 veces. Probabilidad experimental: 0.3 .Probabilidad teórica:0.1666\n",
      "Ha salido 3 2 veces. Probabilidad experimental: 0.2 .Probabilidad teórica:0.1666\n",
      "Ha salido 4 1 veces. Probabilidad experimental: 0.1 .Probabilidad teórica:0.1666\n",
      "Ha salido 5 0 veces. Probabilidad experimental: 0.0 .Probabilidad teórica:0.1666\n",
      "Ha salido 6 0 veces. Probabilidad experimental: 0.0 .Probabilidad teórica:0.1666\n"
     ]
    }
   ],
   "source": [
    "dado(10)"
   ]
  },
  {
   "cell_type": "code",
   "execution_count": 9,
   "id": "5df4ade5",
   "metadata": {},
   "outputs": [
    {
     "name": "stdout",
     "output_type": "stream",
     "text": [
      "Número de lanzamientos: 50\n",
      "Ha salido 1 10 veces. Probabilidad experimental: 0.2 .Probabilidad teórica:0.1666\n",
      "Ha salido 2 7 veces. Probabilidad experimental: 0.14 .Probabilidad teórica:0.1666\n",
      "Ha salido 3 6 veces. Probabilidad experimental: 0.12 .Probabilidad teórica:0.1666\n",
      "Ha salido 4 8 veces. Probabilidad experimental: 0.16 .Probabilidad teórica:0.1666\n",
      "Ha salido 5 9 veces. Probabilidad experimental: 0.18 .Probabilidad teórica:0.1666\n",
      "Ha salido 6 10 veces. Probabilidad experimental: 0.2 .Probabilidad teórica:0.1666\n"
     ]
    }
   ],
   "source": [
    "dado(50)"
   ]
  },
  {
   "cell_type": "code",
   "execution_count": 10,
   "id": "6e538aa4",
   "metadata": {},
   "outputs": [
    {
     "name": "stdout",
     "output_type": "stream",
     "text": [
      "Número de lanzamientos: 100\n",
      "Ha salido 1 25 veces. Probabilidad experimental: 0.25 .Probabilidad teórica:0.1666\n",
      "Ha salido 2 13 veces. Probabilidad experimental: 0.13 .Probabilidad teórica:0.1666\n",
      "Ha salido 3 22 veces. Probabilidad experimental: 0.22 .Probabilidad teórica:0.1666\n",
      "Ha salido 4 16 veces. Probabilidad experimental: 0.16 .Probabilidad teórica:0.1666\n",
      "Ha salido 5 18 veces. Probabilidad experimental: 0.18 .Probabilidad teórica:0.1666\n",
      "Ha salido 6 6 veces. Probabilidad experimental: 0.06 .Probabilidad teórica:0.1666\n"
     ]
    }
   ],
   "source": [
    "dado(100)"
   ]
  },
  {
   "cell_type": "code",
   "execution_count": 11,
   "id": "5e11f8bd",
   "metadata": {},
   "outputs": [
    {
     "name": "stdout",
     "output_type": "stream",
     "text": [
      "Número de lanzamientos: 500\n",
      "Ha salido 1 82 veces. Probabilidad experimental: 0.164 .Probabilidad teórica:0.1666\n",
      "Ha salido 2 91 veces. Probabilidad experimental: 0.182 .Probabilidad teórica:0.1666\n",
      "Ha salido 3 88 veces. Probabilidad experimental: 0.176 .Probabilidad teórica:0.1666\n",
      "Ha salido 4 73 veces. Probabilidad experimental: 0.146 .Probabilidad teórica:0.1666\n",
      "Ha salido 5 83 veces. Probabilidad experimental: 0.166 .Probabilidad teórica:0.1666\n",
      "Ha salido 6 83 veces. Probabilidad experimental: 0.166 .Probabilidad teórica:0.1666\n"
     ]
    }
   ],
   "source": [
    "dado(500)"
   ]
  }
 ],
 "metadata": {
  "kernelspec": {
   "display_name": "Python 3",
   "language": "python",
   "name": "python3"
  },
  "language_info": {
   "codemirror_mode": {
    "name": "ipython",
    "version": 3
   },
   "file_extension": ".py",
   "mimetype": "text/x-python",
   "name": "python",
   "nbconvert_exporter": "python",
   "pygments_lexer": "ipython3",
   "version": "3.8.8"
  }
 },
 "nbformat": 4,
 "nbformat_minor": 5
}
