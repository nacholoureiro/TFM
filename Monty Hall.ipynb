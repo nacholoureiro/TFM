{
 "cells": [
  {
   "cell_type": "code",
   "execution_count": 18,
   "id": "06c96b82",
   "metadata": {},
   "outputs": [
    {
     "name": "stdout",
     "output_type": "stream",
     "text": [
      "Monty Hall Problem with 3 doors\n",
      "Proportion of wins without switching: 0.3182\n",
      "Proportion of wins with switching: 0.6061\n"
     ]
    }
   ],
   "source": [
    "import random\n",
    "\n",
    "def run_trial(switch_doors, ndoors):\n",
    "    \"\"\"\n",
    "    Run a single trial of the Monty Hall problem, with or without switching\n",
    "    after the gameshow host reveals a goat behind one of the unchosen doors.\n",
    "    (switch_doors is True or False). The car is behind door number 1 and the\n",
    "    gameshow host knows that.\n",
    "\n",
    "    \"\"\"\n",
    "\n",
    "    # Pick a random door out of the ndoors available\n",
    "    chosen_door = random.randint(1, ndoors)\n",
    "    if switch_doors:\n",
    "        # Reveal a goat\n",
    "        revealed_door = 3 if chosen_door==2 else 2\n",
    "        # Make the switch by choosing any other door than the initially-\n",
    "        # selected one and the one just opened to reveal a goat. \n",
    "        available_doors = [dnum for dnum in range(1,ndoors+1)\n",
    "                                if dnum not in (chosen_door, revealed_door)]\n",
    "        chosen_door = random.choice(available_doors)\n",
    "\n",
    "    # You win if you picked door number 1\n",
    "    return chosen_door == 1\n",
    "\n",
    "def run_trials(ntrials, switch_doors, ndoors):\n",
    "    \"\"\"\n",
    "    Run ntrials iterations of the Monty Hall problem with ndoors doors, with\n",
    "    and without switching (switch_doors = True or False). Returns the number\n",
    "    of trials which resulted in winning the car by picking door number 1.\n",
    "\n",
    "    \"\"\"\n",
    "\n",
    "    nwins = 0\n",
    "    for i in range(ntrials):\n",
    "        if run_trial(switch_doors, ndoors):\n",
    "            nwins += 1\n",
    "    return nwins\n",
    "\n",
    "ndoors, ntrials = 3, 66\n",
    "nwins_without_switch = run_trials(ntrials, False, ndoors)\n",
    "nwins_with_switch = run_trials(ntrials, True, ndoors)\n",
    "\n",
    "print('Monty Hall Problem with {} doors'.format(ndoors))\n",
    "print('Proportion of wins without switching: {:.4f}'\n",
    "            .format(nwins_without_switch/ntrials))\n",
    "print('Proportion of wins with switching: {:.4f}'\n",
    "            .format(nwins_with_switch/ntrials))"
   ]
  },
  {
   "cell_type": "code",
   "execution_count": 50,
   "id": "decb1732",
   "metadata": {
    "scrolled": true
   },
   "outputs": [
    {
     "name": "stdout",
     "output_type": "stream",
     "text": [
      "The host knows the answer 2\n",
      "Players first choice 3\n",
      "The elimination 1\n",
      "final answe [2]\n",
      "[1]\n",
      "[nan]\n",
      "\n",
      "\n",
      "\n"
     ]
    }
   ],
   "source": [
    "%matplotlib inline\n",
    "import matplotlib\n",
    "import numpy as np\n",
    "import matplotlib.pyplot as plt\n",
    "from random import choice as ch\n",
    "import numpy as np\n",
    "ac = []\n",
    "N = []\n",
    "for M in range(2): #Outer loop from 1 to 10000\n",
    "    score = []\n",
    "    runs = 0\n",
    "    cards = [1,2,3]\n",
    "    for K in range(0,M): # sub loop that simulates 1 to M(outerloop) games\n",
    "        aset = []\n",
    "        host = cards.copy()\n",
    "        hbk = ch(host) #Randomly choose as answer which host knows\n",
    "        aset.append(hbk)\n",
    "        print(\"The host knows the answer\",hbk)\n",
    "        player = cards.copy()\n",
    "        px = ch(player) # Contestants random guess\n",
    "        aset.append(px)\n",
    "        print (\"Players first choice\",px)\n",
    "        chance = 0\n",
    "        for i in host: # The computation....host will eliminate P(X|DOOR) = 0\n",
    "            if i not in aset:\n",
    "                chance = i\n",
    "        print (\"The elimination\",chance)\n",
    "        player.pop(player.index(chance))\n",
    "        player.pop(player.index(px))\n",
    "        print (\"final answe\",player)\n",
    "        if player[0] == hbk:\n",
    "            score.append(1)\n",
    "            print(score)\n",
    "        else:\n",
    "            score.append(0)\n",
    "            print(score)\n",
    "        runs = K\n",
    "        print (ac)\n",
    "        print(\"\\n\\n\")\n",
    "    ac.append(np.mean(score))\n",
    "    N.append(M)"
   ]
  },
  {
   "cell_type": "code",
   "execution_count": 37,
   "id": "dc5fca48",
   "metadata": {},
   "outputs": [
    {
     "data": {
      "image/png": "[encoded data removed]",
      "text/plain": [
       "<Figure size 432x288 with 1 Axes>"
      ]
     },
     "metadata": {
      "needs_background": "light"
     },
     "output_type": "display_data"
    }
   ],
   "source": [
    "plt.plot(N,ac)\n",
    "plt.show()"
   ]
  },
  {
   "cell_type": "code",
   "execution_count": 39,
   "id": "ee6053ae",
   "metadata": {},
   "outputs": [
    {
     "data": {
      "text/plain": [
       "0.6578947368421053"
      ]
     },
     "execution_count": 39,
     "metadata": {},
     "output_type": "execute_result"
    }
   ],
   "source": [
    "\n",
    "np.mean(score)\n"
   ]
  },
  {
   "cell_type": "code",
   "execution_count": 13,
   "id": "1b046a37",
   "metadata": {},
   "outputs": [
    {
     "name": "stdout",
     "output_type": "stream",
     "text": [
      "Averge Wins nan\n"
     ]
    }
   ],
   "source": [
    "print (\"Averge Wins\",np.mean(ac))"
   ]
  },
  {
   "cell_type": "code",
   "execution_count": 35,
   "id": "da939161",
   "metadata": {},
   "outputs": [
    {
     "data": {
      "text/plain": [
       "39"
      ]
     },
     "execution_count": 35,
     "metadata": {},
     "output_type": "execute_result"
    }
   ],
   "source": [
    "len(N)"
   ]
  },
  {
   "cell_type": "code",
   "execution_count": null,
   "id": "5724d94e",
   "metadata": {},
   "outputs": [],
   "source": []
  }
 ],
 "metadata": {
  "kernelspec": {
   "display_name": "Python 3",
   "language": "python",
   "name": "python3"
  },
  "language_info": {
   "codemirror_mode": {
    "name": "ipython",
    "version": 3
   },
   "file_extension": ".py",
   "mimetype": "text/x-python",
   "name": "python",
   "nbconvert_exporter": "python",
   "pygments_lexer": "ipython3",
   "version": "3.8.8"
  }
 },
 "nbformat": 4,
 "nbformat_minor": 5
}
