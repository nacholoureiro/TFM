{
 "cells": [
  {
   "cell_type": "code",
   "execution_count": 63,
   "id": "01bc6e9b",
   "metadata": {},
   "outputs": [],
   "source": [
    "#Calcular la probabilidad de obtener 6 o más caras al lanzar una moneda al aire 10 veces"
   ]
  },
  {
   "cell_type": "code",
   "execution_count": 64,
   "id": "9e0effb7",
   "metadata": {},
   "outputs": [],
   "source": [
    "import random\n",
    "import math\n",
    "import numpy as np"
   ]
  },
  {
   "cell_type": "code",
   "execution_count": 86,
   "id": "abce0e68",
   "metadata": {},
   "outputs": [
    {
     "name": "stdout",
     "output_type": "stream",
     "text": [
      "CRUZ. En  1 lanzamientos ha salido cara 0 veces\n",
      "CRUZ. En  2 lanzamientos ha salido cara 0 veces\n",
      "CARA. En  3 lanzamientos ha salido cara 1 veces\n",
      "CRUZ. En  4 lanzamientos ha salido cara 1 veces\n",
      "CARA. En  5 lanzamientos ha salido cara 2 veces\n",
      "CRUZ. En  6 lanzamientos ha salido cara 2 veces\n",
      "CRUZ. En  7 lanzamientos ha salido cara 2 veces\n",
      "CRUZ. En  8 lanzamientos ha salido cara 2 veces\n",
      "CARA. En  9 lanzamientos ha salido cara 3 veces\n",
      "CRUZ. En  10 lanzamientos ha salido cara 3 veces\n"
     ]
    }
   ],
   "source": [
    "#Explicación del experimento de lanzar la moneda al aire 10 veces y obtener cara 6 veces o más\n",
    "num_cara = 0  #Inicialmente, tenemos 0 caras y 0 cruces (aún no hemos lanzado la moneda al aire)\n",
    "for flip in range(10):\n",
    "    a = random.randint(0,1)\n",
    "    num_cara += a #Si sale cruz, suma 0. Si sale cara, suma 1.\n",
    "    if (a==1):\n",
    "        print(\"CARA. En \",flip+1,\"lanzamientos ha salido cara\",num_cara, \"veces\")\n",
    "    else:\n",
    "        print(\"CRUZ. En \",flip+1,\"lanzamientos ha salido cara\",num_cara, \"veces\")"
   ]
  },
  {
   "cell_type": "code",
   "execution_count": 93,
   "id": "324325b2",
   "metadata": {},
   "outputs": [],
   "source": [
    "def test():  \n",
    "    # cara: 1 \n",
    "    # cruz: 0\n",
    "    num_cara = 0  #Inicialmente, tenemos 0 caras y 0 cruces (aún no hemos lanzado la moneda al aire)\n",
    "    for flip in range(10):\n",
    "        a = random.randint(0,1)\n",
    "        num_cara += a #Si sale cruz, suma 0. Si sale cara, suma 1.\n",
    "    return (num_cara>=6) #Esta función nos dice si se han obtenido o no 6 o más caras al lanzar la moneda 10 veces\n",
    "                         #Devuelve un boolean"
   ]
  },
  {
   "cell_type": "code",
   "execution_count": 94,
   "id": "8b30ccf8",
   "metadata": {},
   "outputs": [
    {
     "data": {
      "text/plain": [
       "True"
      ]
     },
     "execution_count": 94,
     "metadata": {},
     "output_type": "execute_result"
    }
   ],
   "source": [
    "test()"
   ]
  },
  {
   "cell_type": "code",
   "execution_count": 76,
   "id": "09b75965",
   "metadata": {},
   "outputs": [],
   "source": [
    "def experiment(n):\n",
    "    success = 0\n",
    "    for t in range(n): #Realizamos N veces el experimento de lanzar la moneda al aire 10 veces\n",
    "        success += int(test())  #transformamos el boolean en 0 (False) o 1 (True) \n",
    "    print(\"Se han obtenido 6 o más caras en\",success,\"de los\",n,\"experimentos realizados\")\n",
    "    print(\"Esto supone un ratio de éxito de\", (success/n))"
   ]
  },
  {
   "cell_type": "code",
   "execution_count": 69,
   "id": "3907c343",
   "metadata": {},
   "outputs": [
    {
     "name": "stdout",
     "output_type": "stream",
     "text": [
      "Se han obtenido 6 o más caras en 30 de los 100 experimentos realizados\n",
      "Esto supone un porcentaje de éxito del 30.0 %\n"
     ]
    }
   ],
   "source": [
    "experiment(100)"
   ]
  },
  {
   "cell_type": "code",
   "execution_count": 84,
   "id": "bda3790c",
   "metadata": {},
   "outputs": [],
   "source": [
    "def theory():\n",
    "    success = 0\n",
    "    for k in range(6,10): \n",
    "        success += (math.factorial(10)/(math.factorial(k)*math.factorial(10-k)))\n",
    "        result_pos = 2**10\n",
    "    return(success/result_pos)"
   ]
  },
  {
   "cell_type": "code",
   "execution_count": 85,
   "id": "877368ab",
   "metadata": {
    "scrolled": false
   },
   "outputs": [
    {
     "name": "stdout",
     "output_type": "stream",
     "text": [
      "Se han obtenido 6 o más caras en 3773 de los 10000 experimentos realizados\n",
      "Esto supone un ratio de éxito de 0.3773\n",
      "La predicción teórica es 0.3759765625\n"
     ]
    }
   ],
   "source": [
    "experiment(10000)\n",
    "print(\"La predicción teórica es\",theory())"
   ]
  },
  {
   "cell_type": "code",
   "execution_count": null,
   "id": "74ff5d74",
   "metadata": {},
   "outputs": [],
   "source": []
  }
 ],
 "metadata": {
  "kernelspec": {
   "display_name": "Python 3",
   "language": "python",
   "name": "python3"
  },
  "language_info": {
   "codemirror_mode": {
    "name": "ipython",
    "version": 3
   },
   "file_extension": ".py",
   "mimetype": "text/x-python",
   "name": "python",
   "nbconvert_exporter": "python",
   "pygments_lexer": "ipython3",
   "version": "3.8.8"
  }
 },
 "nbformat": 4,
 "nbformat_minor": 5
}
