{
 "cells": [
  {
   "cell_type": "markdown",
   "id": "004c85c2",
   "metadata": {},
   "source": [
    "## Sesión 2- Números aleatorios y estimación del número $\\pi$"
   ]
  },
  {
   "attachments": {
    "r_2r.png": {
     "image/png": "[encoded data removed]"
    }
   },
   "cell_type": "markdown",
   "id": "bc70c0c5",
   "metadata": {},
   "source": [
    "En esta sesión, intentaremos estimar el valor de $\\pi$.\\\n",
    "Para ello, \"simularemos\" dardos disparados aleatoriamente a una diana circular de radio *r* como la de la imagen inscrita en un cuadrado de lado *2r*.\n",
    "![r_2r.png](attachment:r_2r.png)\n"
   ]
  },
  {
   "cell_type": "markdown",
   "id": "f13e4a91",
   "metadata": {},
   "source": [
    "Según la Regla de Laplace, la probabilidad de que un dardo lanzado aleatoriamente caiga dentro del círculo, $P(dentro)$, será:\n",
    "\n",
    "$P(dentro)=\\frac{N_{dentro}}{N_{total}}$\n",
    "\n",
    "donde $N_{dentro}$ es el número de dardos que caen dentro del círculo y $N_{total}$ es el número total de dardos lanzados."
   ]
  },
  {
   "cell_type": "markdown",
   "id": "25dfe972",
   "metadata": {},
   "source": [
    "\n",
    "Esta probabilidad puede expresarse como la razón entre las áreas del círculo y el cuadrado:\n",
    "\n",
    "$P(dentro)=\\frac{N_{dentro}}{N_{total}}=\\frac{Área_{círculo}}{Área_{cuadrado}}=\\frac{\\pi r^{2}}{(2r)^{2}}=\\frac{\\pi r^{2}}{4 r^{2}}=\\frac{\\pi}{4}$\n",
    "\n",
    "De aquí, obtenemos que\n",
    "\n",
    "$\\pi=4\\frac{N_{dentro}}{N_{total}}$"
   ]
  },
  {
   "cell_type": "markdown",
   "id": "a9b64b49",
   "metadata": {},
   "source": [
    "## Ejercicio propuesto\n",
    "Con la teoría expuesta anteriormente y **buscando toda la información que necesites en la red**, intenta crear un pequeño programa que estime, de la forma más exacta posible, el valor de $\\pi$."
   ]
  },
  {
   "cell_type": "markdown",
   "id": "e25f6584",
   "metadata": {},
   "source": [
    "***Pistas:*** *1)* Busca información acerca de la librería **random** y cómo generar números aleatorios. *2)* Considera un círculo de radio $r=1$ cuyo centro está en el origen de coordenadas O(0,0). *3)* ¿Qué condición deben cumplir los puntos (x,y) para estar situados dentro del círculo? *4)* El único dato que necesita el programa es el número total de dardos lanzados ($N_{total}$)."
   ]
  },
  {
   "cell_type": "code",
   "execution_count": null,
   "id": "efbf8a7c",
   "metadata": {},
   "outputs": [],
   "source": []
  }
 ],
 "metadata": {
  "kernelspec": {
   "display_name": "Python 3",
   "language": "python",
   "name": "python3"
  },
  "language_info": {
   "codemirror_mode": {
    "name": "ipython",
    "version": 3
   },
   "file_extension": ".py",
   "mimetype": "text/x-python",
   "name": "python",
   "nbconvert_exporter": "python",
   "pygments_lexer": "ipython3",
   "version": "3.8.8"
  }
 },
 "nbformat": 4,
 "nbformat_minor": 5
}
